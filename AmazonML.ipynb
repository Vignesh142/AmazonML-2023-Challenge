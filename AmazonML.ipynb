{
 "cells": [
  {
   "cell_type": "code",
   "execution_count": 1,
   "id": "c7a1d7a9-7166-432f-b08d-2186658a1570",
   "metadata": {},
   "outputs": [
    {
     "name": "stdout",
     "output_type": "stream",
     "text": [
      "Let's get started\n"
     ]
    }
   ],
   "source": [
    "print(\"Let's get started\")"
   ]
  },
  {
   "cell_type": "code",
   "execution_count": 2,
   "id": "dc11a84b-2469-4937-8884-0a2fc814ad57",
   "metadata": {},
   "outputs": [],
   "source": [
    "import os\n",
    "import numpy as np\n",
    "import pandas as pd\n",
    "import matplotlib.pyplot as plt"
   ]
  },
  {
   "cell_type": "code",
   "execution_count": 3,
   "id": "9dd1f809-9a19-4f47-b941-b9d30e3bf3fa",
   "metadata": {},
   "outputs": [
    {
     "data": {
      "text/plain": [
       "'E:\\\\AIML\\\\AmazonMLHackathon'"
      ]
     },
     "execution_count": 3,
     "metadata": {},
     "output_type": "execute_result"
    }
   ],
   "source": [
    "os.getcwd()"
   ]
  },
  {
   "cell_type": "code",
   "execution_count": 4,
   "id": "00ce69b0-f014-452a-b0fe-74f701f72b2e",
   "metadata": {},
   "outputs": [],
   "source": [
    "os.chdir('E:\\\\AIML\\\\AmazonMLHackathon\\\\dataset')"
   ]
  },
  {
   "cell_type": "code",
   "execution_count": 5,
   "id": "d31328a4-e4ba-4789-b226-a42fa54cce89",
   "metadata": {},
   "outputs": [],
   "source": [
    "ch=os.getcwd()+'\\\\train.csv'"
   ]
  },
  {
   "cell_type": "code",
   "execution_count": 6,
   "id": "f717fe0e-b2f3-4943-a729-87f63219e3e0",
   "metadata": {},
   "outputs": [],
   "source": [
    "# dir(os)\n",
    "df=pd.read_csv(ch)"
   ]
  },
  {
   "cell_type": "code",
   "execution_count": 7,
   "id": "bc139274-3e05-4d3a-b4c4-66605a083787",
   "metadata": {},
   "outputs": [
    {
     "data": {
      "text/html": [
       "<div>\n",
       "<style scoped>\n",
       "    .dataframe tbody tr th:only-of-type {\n",
       "        vertical-align: middle;\n",
       "    }\n",
       "\n",
       "    .dataframe tbody tr th {\n",
       "        vertical-align: top;\n",
       "    }\n",
       "\n",
       "    .dataframe thead th {\n",
       "        text-align: right;\n",
       "    }\n",
       "</style>\n",
       "<table border=\"1\" class=\"dataframe\">\n",
       "  <thead>\n",
       "    <tr style=\"text-align: right;\">\n",
       "      <th></th>\n",
       "      <th>PRODUCT_ID</th>\n",
       "      <th>TITLE</th>\n",
       "      <th>BULLET_POINTS</th>\n",
       "      <th>DESCRIPTION</th>\n",
       "      <th>PRODUCT_TYPE_ID</th>\n",
       "      <th>PRODUCT_LENGTH</th>\n",
       "    </tr>\n",
       "  </thead>\n",
       "  <tbody>\n",
       "    <tr>\n",
       "      <th>0</th>\n",
       "      <td>1925202</td>\n",
       "      <td>ArtzFolio Tulip Flowers Blackout Curtain for D...</td>\n",
       "      <td>[LUXURIOUS &amp; APPEALING: Beautiful custom-made ...</td>\n",
       "      <td>NaN</td>\n",
       "      <td>1650</td>\n",
       "      <td>2125.980000</td>\n",
       "    </tr>\n",
       "    <tr>\n",
       "      <th>1</th>\n",
       "      <td>2673191</td>\n",
       "      <td>Marks &amp; Spencer Girls' Pyjama Sets T86_2561C_N...</td>\n",
       "      <td>[Harry Potter Hedwig Pyjamas (6-16 Yrs),100% c...</td>\n",
       "      <td>NaN</td>\n",
       "      <td>2755</td>\n",
       "      <td>393.700000</td>\n",
       "    </tr>\n",
       "    <tr>\n",
       "      <th>2</th>\n",
       "      <td>2765088</td>\n",
       "      <td>PRIKNIK Horn Red Electric Air Horn Compressor ...</td>\n",
       "      <td>[Loud Dual Tone Trumpet Horn, Compatible With ...</td>\n",
       "      <td>Specifications: Color: Red, Material: Aluminiu...</td>\n",
       "      <td>7537</td>\n",
       "      <td>748.031495</td>\n",
       "    </tr>\n",
       "    <tr>\n",
       "      <th>3</th>\n",
       "      <td>1594019</td>\n",
       "      <td>ALISHAH Women's Cotton Ankle Length Leggings C...</td>\n",
       "      <td>[Made By 95%cotton and 5% Lycra which gives yo...</td>\n",
       "      <td>AISHAH Women's Lycra Cotton Ankel Leggings. Br...</td>\n",
       "      <td>2996</td>\n",
       "      <td>787.401574</td>\n",
       "    </tr>\n",
       "    <tr>\n",
       "      <th>4</th>\n",
       "      <td>283658</td>\n",
       "      <td>The United Empire Loyalists: A Chronicle of th...</td>\n",
       "      <td>NaN</td>\n",
       "      <td>NaN</td>\n",
       "      <td>6112</td>\n",
       "      <td>598.424000</td>\n",
       "    </tr>\n",
       "  </tbody>\n",
       "</table>\n",
       "</div>"
      ],
      "text/plain": [
       "   PRODUCT_ID                                              TITLE  \\\n",
       "0     1925202  ArtzFolio Tulip Flowers Blackout Curtain for D...   \n",
       "1     2673191  Marks & Spencer Girls' Pyjama Sets T86_2561C_N...   \n",
       "2     2765088  PRIKNIK Horn Red Electric Air Horn Compressor ...   \n",
       "3     1594019  ALISHAH Women's Cotton Ankle Length Leggings C...   \n",
       "4      283658  The United Empire Loyalists: A Chronicle of th...   \n",
       "\n",
       "                                       BULLET_POINTS  \\\n",
       "0  [LUXURIOUS & APPEALING: Beautiful custom-made ...   \n",
       "1  [Harry Potter Hedwig Pyjamas (6-16 Yrs),100% c...   \n",
       "2  [Loud Dual Tone Trumpet Horn, Compatible With ...   \n",
       "3  [Made By 95%cotton and 5% Lycra which gives yo...   \n",
       "4                                                NaN   \n",
       "\n",
       "                                         DESCRIPTION  PRODUCT_TYPE_ID  \\\n",
       "0                                                NaN             1650   \n",
       "1                                                NaN             2755   \n",
       "2  Specifications: Color: Red, Material: Aluminiu...             7537   \n",
       "3  AISHAH Women's Lycra Cotton Ankel Leggings. Br...             2996   \n",
       "4                                                NaN             6112   \n",
       "\n",
       "   PRODUCT_LENGTH  \n",
       "0     2125.980000  \n",
       "1      393.700000  \n",
       "2      748.031495  \n",
       "3      787.401574  \n",
       "4      598.424000  "
      ]
     },
     "execution_count": 7,
     "metadata": {},
     "output_type": "execute_result"
    }
   ],
   "source": [
    "df.head()"
   ]
  },
  {
   "cell_type": "code",
   "execution_count": 34,
   "id": "9547076a-8e75-4437-8970-e79f18b649a5",
   "metadata": {},
   "outputs": [
    {
     "data": {
      "text/plain": [
       "PRODUCT_ID               0\n",
       "TITLE                    0\n",
       "BULLET_POINTS       837354\n",
       "DESCRIPTION        1157369\n",
       "PRODUCT_TYPE_ID          0\n",
       "PRODUCT_LENGTH           0\n",
       "dtype: int64"
      ]
     },
     "execution_count": 34,
     "metadata": {},
     "output_type": "execute_result"
    }
   ],
   "source": [
    "# df=df.iloc([0,2,],:)\n",
    "df.isnull().sum()"
   ]
  },
  {
   "cell_type": "code",
   "execution_count": 35,
   "id": "d376a184-3721-4f5e-a196-0c622ce2ba8a",
   "metadata": {},
   "outputs": [
    {
     "data": {
      "text/plain": [
       "PRODUCT_ID              0\n",
       "TITLE                   0\n",
       "BULLET_POINTS       53857\n",
       "DESCRIPTION        373872\n",
       "PRODUCT_TYPE_ID         0\n",
       "PRODUCT_LENGTH          0\n",
       "dtype: int64"
      ]
     },
     "execution_count": 35,
     "metadata": {},
     "output_type": "execute_result"
    }
   ],
   "source": [
    "# df['BULLET_POINTS'].isnull().sum()\n",
    "# df['TITLE'][4]\n",
    "df.isnull().sum()\n",
    "# df.dropna(axis=0,subset=['TITLE'],inplace=True)\n",
    "df.dropna(axis=0,subset=['BULLET_POINTS','DESCRIPTION'],how='all').isnull().sum()"
   ]
  },
  {
   "cell_type": "code",
   "execution_count": 55,
   "id": "c622241d-c2b5-4a50-9ee1-c9d50f8475b3",
   "metadata": {},
   "outputs": [],
   "source": [
    "# df.dropna(axis=0,subset=['BULLET_POINTS','DESCRIPTION'],how='all',inplace=True)"
   ]
  },
  {
   "cell_type": "code",
   "execution_count": 40,
   "id": "73d244d3-d006-4bd2-abd3-e700bfd122f7",
   "metadata": {},
   "outputs": [
    {
     "data": {
      "text/plain": [
       "1        121199\n",
       "12064     57554\n",
       "0         50505\n",
       "123       31527\n",
       "6104      29690\n",
       "          ...  \n",
       "7239          1\n",
       "12536         1\n",
       "4114          1\n",
       "3229          1\n",
       "4505          1\n",
       "Name: PRODUCT_TYPE_ID, Length: 12907, dtype: int64"
      ]
     },
     "execution_count": 40,
     "metadata": {},
     "output_type": "execute_result"
    }
   ],
   "source": [
    "# df.info()\n",
    "df['PRODUCT_TYPE_ID'].value_counts()#.unique()#.max()#.size"
   ]
  },
  {
   "cell_type": "code",
   "execution_count": 58,
   "id": "4c60b735-192d-4fc7-a8e5-89a0a5311a98",
   "metadata": {},
   "outputs": [
    {
     "data": {
      "text/plain": [
       "675.2369053992373"
      ]
     },
     "execution_count": 58,
     "metadata": {},
     "output_type": "execute_result"
    }
   ],
   "source": [
    "df[df['PRODUCT_TYPE_ID']==1]['PRODUCT_LENGTH'].mean()"
   ]
  },
  {
   "cell_type": "code",
   "execution_count": 46,
   "id": "2afeb090-fbc6-4dc6-9dd4-d6b0f391b081",
   "metadata": {},
   "outputs": [
    {
     "data": {
      "text/html": [
       "<div>\n",
       "<style scoped>\n",
       "    .dataframe tbody tr th:only-of-type {\n",
       "        vertical-align: middle;\n",
       "    }\n",
       "\n",
       "    .dataframe tbody tr th {\n",
       "        vertical-align: top;\n",
       "    }\n",
       "\n",
       "    .dataframe thead th {\n",
       "        text-align: right;\n",
       "    }\n",
       "</style>\n",
       "<table border=\"1\" class=\"dataframe\">\n",
       "  <thead>\n",
       "    <tr style=\"text-align: right;\">\n",
       "      <th></th>\n",
       "      <th>PRODUCT_ID</th>\n",
       "      <th>PRODUCT_TYPE_ID</th>\n",
       "      <th>PRODUCT_LENGTH</th>\n",
       "    </tr>\n",
       "  </thead>\n",
       "  <tbody>\n",
       "    <tr>\n",
       "      <th>count</th>\n",
       "      <td>2.249698e+06</td>\n",
       "      <td>2.249698e+06</td>\n",
       "      <td>2.249698e+06</td>\n",
       "    </tr>\n",
       "    <tr>\n",
       "      <th>mean</th>\n",
       "      <td>1.499795e+06</td>\n",
       "      <td>4.000456e+03</td>\n",
       "      <td>4.071839e+03</td>\n",
       "    </tr>\n",
       "    <tr>\n",
       "      <th>std</th>\n",
       "      <td>8.661944e+05</td>\n",
       "      <td>3.966146e+03</td>\n",
       "      <td>1.351685e+06</td>\n",
       "    </tr>\n",
       "    <tr>\n",
       "      <th>min</th>\n",
       "      <td>1.000000e+00</td>\n",
       "      <td>0.000000e+00</td>\n",
       "      <td>1.000000e+00</td>\n",
       "    </tr>\n",
       "    <tr>\n",
       "      <th>25%</th>\n",
       "      <td>7.494795e+05</td>\n",
       "      <td>2.300000e+02</td>\n",
       "      <td>5.118110e+02</td>\n",
       "    </tr>\n",
       "    <tr>\n",
       "      <th>50%</th>\n",
       "      <td>1.499558e+06</td>\n",
       "      <td>2.916000e+03</td>\n",
       "      <td>6.630000e+02</td>\n",
       "    </tr>\n",
       "    <tr>\n",
       "      <th>75%</th>\n",
       "      <td>2.250664e+06</td>\n",
       "      <td>6.403000e+03</td>\n",
       "      <td>1.062992e+03</td>\n",
       "    </tr>\n",
       "    <tr>\n",
       "      <th>max</th>\n",
       "      <td>2.999999e+06</td>\n",
       "      <td>1.342000e+04</td>\n",
       "      <td>1.885801e+09</td>\n",
       "    </tr>\n",
       "  </tbody>\n",
       "</table>\n",
       "</div>"
      ],
      "text/plain": [
       "         PRODUCT_ID  PRODUCT_TYPE_ID  PRODUCT_LENGTH\n",
       "count  2.249698e+06     2.249698e+06    2.249698e+06\n",
       "mean   1.499795e+06     4.000456e+03    4.071839e+03\n",
       "std    8.661944e+05     3.966146e+03    1.351685e+06\n",
       "min    1.000000e+00     0.000000e+00    1.000000e+00\n",
       "25%    7.494795e+05     2.300000e+02    5.118110e+02\n",
       "50%    1.499558e+06     2.916000e+03    6.630000e+02\n",
       "75%    2.250664e+06     6.403000e+03    1.062992e+03\n",
       "max    2.999999e+06     1.342000e+04    1.885801e+09"
      ]
     },
     "execution_count": 46,
     "metadata": {},
     "output_type": "execute_result"
    }
   ],
   "source": [
    "df.describe()"
   ]
  },
  {
   "cell_type": "code",
   "execution_count": 12,
   "id": "fe69385c-cec0-449c-bde7-c39ccf1b4174",
   "metadata": {},
   "outputs": [
    {
     "data": {
      "text/html": [
       "<div>\n",
       "<style scoped>\n",
       "    .dataframe tbody tr th:only-of-type {\n",
       "        vertical-align: middle;\n",
       "    }\n",
       "\n",
       "    .dataframe tbody tr th {\n",
       "        vertical-align: top;\n",
       "    }\n",
       "\n",
       "    .dataframe thead th {\n",
       "        text-align: right;\n",
       "    }\n",
       "</style>\n",
       "<table border=\"1\" class=\"dataframe\">\n",
       "  <thead>\n",
       "    <tr style=\"text-align: right;\">\n",
       "      <th></th>\n",
       "      <th>count</th>\n",
       "      <th>unique</th>\n",
       "      <th>top</th>\n",
       "      <th>freq</th>\n",
       "    </tr>\n",
       "  </thead>\n",
       "  <tbody>\n",
       "    <tr>\n",
       "      <th>PRODUCT_ID</th>\n",
       "      <td>2249698</td>\n",
       "      <td>2249698</td>\n",
       "      <td>1925202</td>\n",
       "      <td>1</td>\n",
       "    </tr>\n",
       "    <tr>\n",
       "      <th>TITLE</th>\n",
       "      <td>2249686</td>\n",
       "      <td>2210762</td>\n",
       "      <td>Unknown Title</td>\n",
       "      <td>109</td>\n",
       "    </tr>\n",
       "    <tr>\n",
       "      <th>BULLET_POINTS</th>\n",
       "      <td>1412334</td>\n",
       "      <td>965330</td>\n",
       "      <td>[Good quality and Suitable to use.,This Produc...</td>\n",
       "      <td>10124</td>\n",
       "    </tr>\n",
       "    <tr>\n",
       "      <th>DESCRIPTION</th>\n",
       "      <td>1092317</td>\n",
       "      <td>745275</td>\n",
       "      <td>This Case is Made up of Hard Polycarbonate Pla...</td>\n",
       "      <td>8339</td>\n",
       "    </tr>\n",
       "    <tr>\n",
       "      <th>PRODUCT_TYPE_ID</th>\n",
       "      <td>2249698</td>\n",
       "      <td>12907</td>\n",
       "      <td>1</td>\n",
       "      <td>121199</td>\n",
       "    </tr>\n",
       "    <tr>\n",
       "      <th>PRODUCT_LENGTH</th>\n",
       "      <td>2249698.0</td>\n",
       "      <td>16655.0</td>\n",
       "      <td>600.0</td>\n",
       "      <td>132095.0</td>\n",
       "    </tr>\n",
       "  </tbody>\n",
       "</table>\n",
       "</div>"
      ],
      "text/plain": [
       "                     count   unique  \\\n",
       "PRODUCT_ID         2249698  2249698   \n",
       "TITLE              2249686  2210762   \n",
       "BULLET_POINTS      1412334   965330   \n",
       "DESCRIPTION        1092317   745275   \n",
       "PRODUCT_TYPE_ID    2249698    12907   \n",
       "PRODUCT_LENGTH   2249698.0  16655.0   \n",
       "\n",
       "                                                               top      freq  \n",
       "PRODUCT_ID                                                 1925202         1  \n",
       "TITLE                                                Unknown Title       109  \n",
       "BULLET_POINTS    [Good quality and Suitable to use.,This Produc...     10124  \n",
       "DESCRIPTION      This Case is Made up of Hard Polycarbonate Pla...      8339  \n",
       "PRODUCT_TYPE_ID                                                  1    121199  \n",
       "PRODUCT_LENGTH                                               600.0  132095.0  "
      ]
     },
     "execution_count": 12,
     "metadata": {},
     "output_type": "execute_result"
    }
   ],
   "source": [
    "# df.dtypes\n",
    "df.astype('object').describe().transpose()"
   ]
  },
  {
   "cell_type": "code",
   "execution_count": 7,
   "id": "935ee831-785f-48d7-b751-ebd364810b01",
   "metadata": {},
   "outputs": [
    {
     "data": {
      "text/plain": [
       "Unnamed: 0         0\n",
       "PRODUCT_ID         0\n",
       "TITLE              0\n",
       "BULLET_POINTS      0\n",
       "DESCRIPTION        0\n",
       "PRODUCT_TYPE_ID    0\n",
       "PRODUCT_LENGTH     0\n",
       "dtype: int64"
      ]
     },
     "execution_count": 7,
     "metadata": {},
     "output_type": "execute_result"
    }
   ],
   "source": [
    "df['DESCRIPTION'].fillna(value = 'No description yet', inplace=True)\n",
    "df['BULLET_POINTS'].fillna(value = 'No description yet', inplace=True)\n",
    "df['TITLE'].fillna(value='Unknown', inplace=True)\n",
    "df.isnull().sum()"
   ]
  },
  {
   "cell_type": "code",
   "execution_count": 10,
   "id": "ff39717a-3e74-43ef-8a12-f2f6e9ecf0b0",
   "metadata": {},
   "outputs": [
    {
     "data": {
      "image/png": "[encoded data removed]",
      "text/plain": [
       "<Figure size 640x480 with 1 Axes>"
      ]
     },
     "metadata": {},
     "output_type": "display_data"
    }
   ],
   "source": [
    "# Plot product Type Distribution\n",
    "df['PRODUCT_TYPE_ID'].plot.hist()\n",
    "plt.xlabel('PRODUCT_TYPE_ID', fontsize=12)\n",
    "plt.title('CATEGORY Distribution', fontsize=12)\n",
    "\n",
    "plt.show()"
   ]
  },
  {
   "cell_type": "code",
   "execution_count": 26,
   "id": "0c1bb0aa-d913-4725-ab31-ca13bbcf529b",
   "metadata": {},
   "outputs": [
    {
     "data": {
      "image/png": "[encoded data removed]",
      "text/plain": [
       "<Figure size 640x480 with 1 Axes>"
      ]
     },
     "metadata": {},
     "output_type": "display_data"
    }
   ],
   "source": [
    "# Plot Product Length Distribution\n",
    "df['PRODUCT_LENGTH'].plot.hist()\n",
    "plt.xlabel('PRODUCT_LENGTH', fontsize=12)\n",
    "plt.title('CATEGORY Distribution', fontsize=12)\n",
    "\n",
    "plt.show()"
   ]
  },
  {
   "cell_type": "code",
   "execution_count": 81,
   "id": "84245793-7c68-4a66-af5e-e9426946f341",
   "metadata": {},
   "outputs": [
    {
     "data": {
      "text/plain": [
       "Text(0, 0.5, 'PRODUCT_LENGTH')"
      ]
     },
     "execution_count": 81,
     "metadata": {},
     "output_type": "execute_result"
    },
    {
     "data": {
      "image/png": "[encoded data removed]",
      "text/plain": [
       "<Figure size 640x480 with 1 Axes>"
      ]
     },
     "metadata": {},
     "output_type": "display_data"
    }
   ],
   "source": [
    "plt.scatter(df['PRODUCT_TYPE_ID'],df['PRODUCT_LENGTH'])\n",
    "plt.xlabel('PRODUCT CATEGORY')\n",
    "plt.ylabel('PRODUCT_LENGTH')"
   ]
  },
  {
   "cell_type": "code",
   "execution_count": 82,
   "id": "3e235c55-1839-4c1a-a228-9d157757522e",
   "metadata": {},
   "outputs": [
    {
     "data": {
      "text/plain": [
       "Text(0, 0.5, 'PRODUCT_LENGTH')"
      ]
     },
     "execution_count": 82,
     "metadata": {},
     "output_type": "execute_result"
    },
    {
     "data": {
      "image/png": "[encoded data removed]",
      "text/plain": [
       "<Figure size 640x480 with 1 Axes>"
      ]
     },
     "metadata": {},
     "output_type": "display_data"
    }
   ],
   "source": [
    "plt.scatter(df['PRODUCT_TYPE_ID'],np.log(df['PRODUCT_LENGTH']))\n",
    "plt.xlabel('PRODUCT CATEGORY')\n",
    "plt.ylabel('PRODUCT_LENGTH')\n",
    "# Uneven product lengths distribution for product lengths i.e many are having same length"
   ]
  },
  {
   "cell_type": "code",
   "execution_count": 11,
   "id": "c3a17cc1-a254-4906-98ad-5098d5353cf4",
   "metadata": {},
   "outputs": [
    {
     "data": {
      "image/png": "[encoded data removed]",
      "text/plain": [
       "<Figure size 640x480 with 1 Axes>"
      ]
     },
     "metadata": {},
     "output_type": "display_data"
    }
   ],
   "source": [
    "# Log Transformation\n",
    "np.log(df['PRODUCT_LENGTH']).plot.hist()\n",
    "plt.xlabel('log(Length+1)', fontsize=12)\n",
    "plt.title('Log ProductLength Distribution', fontsize=12)\n",
    "\n",
    "plt.show()"
   ]
  },
  {
   "cell_type": "code",
   "execution_count": null,
   "id": "8ec575b4-9254-4eeb-8ead-afe9f9881f6b",
   "metadata": {},
   "outputs": [],
   "source": [
    "# import nltk\n",
    "!pip install nltk"
   ]
  },
  {
   "cell_type": "code",
   "execution_count": null,
   "id": "3dd9a914-62ed-48a3-829b-ef4dddcc0dd5",
   "metadata": {},
   "outputs": [],
   "source": [
    "# Examine list of stop words\n",
    "from nltk.corpus import stopwords\n",
    "# nltk.download('stopwords')\n",
    "stop = stopwords.words('english')\n",
    "stop"
   ]
  },
  {
   "cell_type": "code",
   "execution_count": null,
   "id": "5fffaeb7-00fc-42a5-a902-77b315743343",
   "metadata": {},
   "outputs": [],
   "source": [
    "# Create a list of punctuation replacements\n",
    "from string import punctuation\n",
    "punctuation_symbols = []\n",
    "for symbol in punctuation:\n",
    "    punctuation_symbols.append((symbol, ''))\n",
    "punctuation_symbol"
   ]
  },
  {
   "cell_type": "code",
   "execution_count": 54,
   "id": "bd78b905-d974-415d-be98-982002d197b8",
   "metadata": {},
   "outputs": [],
   "source": [
    "import string\n",
    "\n",
    "# Create a function to remove punctuations\n",
    "def remove_punctuation(sentence: str) -> str:\n",
    "    return sentence.translate(str.maketrans('', '', string.punctuation))\n",
    "\n",
    "# Create a function to remove stop words\n",
    "def remove_stop_words(x):\n",
    "    x = ' '.join([i for i in x.lower().split(' ') if i not in stop])\n",
    "    return x\n",
    "\n",
    "# Create a function to lowercase the words\n",
    "def to_lower(x):\n",
    "    return x.lower()"
   ]
  },
  {
   "cell_type": "code",
   "execution_count": 56,
   "id": "738d8f3e-42c0-4417-98ed-9f37ab6cd8b3",
   "metadata": {},
   "outputs": [],
   "source": [
    "from nltk.stem.porter import PorterStemmer\n",
    "porter = PorterStemmer()\n",
    "df['BULLET_POINTS'] = df['BULLET_POINTS'].apply(porter.stem)\n",
    "\n",
    "df['TITLE'] = df['TITLE'].apply(remove_punctuation)\n",
    "df['TITLE'] = df['TITLE'].apply(remove_stop_words)\n",
    "df['TITLE'] = df['TITLE'].apply(to_lower)\n",
    "\n",
    "df['BULLET_POINTS'] = df['BULLET_POINTS'].apply(remove_punctuation)\n",
    "df['BULLET_POINTS'] = df['BULLET_POINTS'].apply(remove_stop_words)\n",
    "df['BULLET_POINTS'] = df['BULLET_POINTS'].apply(to_lower)\n",
    "\n",
    "df['DESCRIPTION'] = df['DESCRIPTION'].apply(remove_punctuation)\n",
    "df['DESCRIPTION'] = df['DESCRIPTION'].apply(remove_stop_words)\n",
    "df['DESCRIPTION'] = df['DESCRIPTION'].apply(to_lower)"
   ]
  },
  {
   "cell_type": "code",
   "execution_count": 57,
   "id": "2a416a33-e4d2-4d08-a3e9-052b7016a09f",
   "metadata": {},
   "outputs": [],
   "source": [
    "from sklearn.feature_extraction.text import CountVectorizer as cv,TfidfVectorizer"
   ]
  },
  {
   "cell_type": "code",
   "execution_count": 12,
   "id": "5522e519-2645-456b-8ebd-71482c74a4e2",
   "metadata": {},
   "outputs": [
    {
     "data": {
      "text/plain": [
       "'artzfolio tulip flowers blackout curtain door window  room  eyelets  tie back  canvas fabric  width 45feet 54inch height 5 feet 60 inch set 2 pcs luxurious  appealing beautiful custommade curtains decorate home office  includes inbuilt tieback hold curtain  completely finished ready hang walls  windowsmaterial luxurious  versatile fabric natural finish  high colour fastness  stateoftheart digital printing ensures colour consistency prevents fading  eyelets cotton canvas width 45feet 54inch  multicolour  package 2 room curtains eyelets  size height 5 feet 60 inch set 2 pcsblackout curtain 100 opaque  heavy premium cotton canvas fabric  tight knitted long life  durable fabric  printing front side plain colour back sidemade perfection large eyelets top put hanging hooks  perfectly tailored seams durability  refined stitching matching thread colorquality assured gentle wash similar colors cold water  avoid direct sunlight prevent fading  dispatched multiple quality checks description yet'"
      ]
     },
     "execution_count": 12,
     "metadata": {},
     "output_type": "execute_result"
    }
   ],
   "source": [
    "df['BULLET_POINTS'][0]"
   ]
  },
  {
   "cell_type": "code",
   "execution_count": null,
   "id": "d1e53c7b-f76a-45a6-a778-7f32ec882754",
   "metadata": {},
   "outputs": [],
   "source": [
    "!pip install transformers"
   ]
  },
  {
   "cell_type": "code",
   "execution_count": 13,
   "id": "7645a790-ceb8-4eb0-9e70-728eab34dd95",
   "metadata": {},
   "outputs": [],
   "source": [
    "import torch, gc, random\n",
    "from transformers.file_utils import is_tf_available, is_torch_available\n",
    "from transformers import AutoTokenizer, AutoModelForSequenceClassification, Trainer, TrainingArguments\n",
    "from sklearn.metrics import mean_squared_error, r2_score, mean_squared_error, mean_absolute_error"
   ]
  },
  {
   "cell_type": "code",
   "execution_count": 11,
   "id": "60af93d5-08ca-4e56-8b30-8370510840d3",
   "metadata": {},
   "outputs": [],
   "source": [
    "X=(df['BULLET_POINTS'])\n",
    "y=df['PRODUCT_LENGTH']\n",
    "X.to_csv('X.csv')\n",
    "y.to_csv('y.csv')"
   ]
  },
  {
   "cell_type": "code",
   "execution_count": 17,
   "id": "8ecf83f1-74ed-4767-9a68-8755643f64c3",
   "metadata": {},
   "outputs": [],
   "source": [
    "y\n",
    "X=list(X)"
   ]
  },
  {
   "cell_type": "code",
   "execution_count": 14,
   "id": "037bd1fa-7dd5-4717-8363-54795e3f1c33",
   "metadata": {},
   "outputs": [],
   "source": [
    "model_name=\"distilbert-base-uncased\""
   ]
  },
  {
   "cell_type": "code",
   "execution_count": 15,
   "id": "99855eca-6127-4c65-ba5d-981b972dd1ff",
   "metadata": {},
   "outputs": [
    {
     "name": "stderr",
     "output_type": "stream",
     "text": [
      "Some weights of the model checkpoint at distilbert-base-uncased were not used when initializing DistilBertForSequenceClassification: ['vocab_transform.weight', 'vocab_layer_norm.bias', 'vocab_transform.bias', 'vocab_projector.bias', 'vocab_projector.weight', 'vocab_layer_norm.weight']\n",
      "- This IS expected if you are initializing DistilBertForSequenceClassification from the checkpoint of a model trained on another task or with another architecture (e.g. initializing a BertForSequenceClassification model from a BertForPreTraining model).\n",
      "- This IS NOT expected if you are initializing DistilBertForSequenceClassification from the checkpoint of a model that you expect to be exactly identical (initializing a BertForSequenceClassification model from a BertForSequenceClassification model).\n",
      "Some weights of DistilBertForSequenceClassification were not initialized from the model checkpoint at distilbert-base-uncased and are newly initialized: ['classifier.weight', 'pre_classifier.bias', 'classifier.bias', 'pre_classifier.weight']\n",
      "You should probably TRAIN this model on a down-stream task to be able to use it for predictions and inference.\n"
     ]
    }
   ],
   "source": [
    "model = AutoModelForSequenceClassification.from_pretrained(model_name, num_labels=1)"
   ]
  },
  {
   "cell_type": "code",
   "execution_count": null,
   "id": "c9002eda-de58-4212-ba4b-9b0520004914",
   "metadata": {},
   "outputs": [],
   "source": [
    "# Call the Tokenizer\n",
    "tokenizer = AutoTokenizer.from_pretrained(model_name)\n",
    "\n",
    "# Encode the text\n",
    "train_encodings = tokenizer(X, truncation=True, padding=True,max_length=150)"
   ]
  },
  {
   "cell_type": "code",
   "execution_count": null,
   "id": "8e75cba7-3edf-47f0-af8b-237fcd09e7e6",
   "metadata": {},
   "outputs": [],
   "source": []
  },
  {
   "cell_type": "code",
   "execution_count": 1,
   "id": "591906f1-cd72-4735-978b-8d0765ca579a",
   "metadata": {},
   "outputs": [],
   "source": [
    "# df['BULLET_POINTS']=df['TITLE']+\" \"+df['BULLET_POINTS']+\" \"+df['DESCRIPTION']"
   ]
  },
  {
   "cell_type": "code",
   "execution_count": 18,
   "id": "048bfaf5-0fe9-49e4-9790-866287387ad0",
   "metadata": {},
   "outputs": [],
   "source": [
    "# df.to_csv('mytrain.csv')"
   ]
  },
  {
   "cell_type": "code",
   "execution_count": 19,
   "id": "71e9119d-c190-4f79-88ba-daf4c4c60d8d",
   "metadata": {},
   "outputs": [],
   "source": [
    "# import transformers\n",
    "# from datasets import Dataset,load_dataset, load_from_disk\n",
    "# from transformers import AutoTokenizer, AutoModelForSequenceClassification"
   ]
  }
 ],
 "metadata": {
  "kernelspec": {
   "display_name": "computervision",
   "language": "python",
   "name": "computervision"
  },
  "language_info": {
   "codemirror_mode": {
    "name": "ipython",
    "version": 3
   },
   "file_extension": ".py",
   "mimetype": "text/x-python",
   "name": "python",
   "nbconvert_exporter": "python",
   "pygments_lexer": "ipython3",
   "version": "3.9.13"
  }
 },
 "nbformat": 4,
 "nbformat_minor": 5
}
